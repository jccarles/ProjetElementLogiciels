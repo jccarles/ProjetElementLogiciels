{
 "cells": [
  {
   "cell_type": "markdown",
   "metadata": {},
   "source": [
    "# Elements logiciels pour le traitement des données en grande dimension"
   ]
  },
  {
   "cell_type": "code",
   "execution_count": 1,
   "metadata": {
    "collapsed": true
   },
   "outputs": [],
   "source": [
    "%matplotlib inline"
   ]
  },
  {
   "cell_type": "markdown",
   "metadata": {},
   "source": [
    "Un arbre k-d (ou k-d tree, pour k-dimensional tree) est une structure de données de partition de l'espace permettant de stocker des points, et de faire des recherches (recherche par plage, plus proche voisin, etc.) plus rapidement qu'en parcourant linéairement le tableau de points."
   ]
  },
  {
   "cell_type": "markdown",
   "metadata": {},
   "source": [
    "Plus précisemement, l'arbre k-d est un arbre binaire dans lequel chaque noeud est un point de dimension k. Chaque noeud non terminal peut être vu comme une génération implicite d'un hyperplan séparateur qui découpe l'espace en deux parties. Les points se trouvant à la gauche de l'hyperplan se retrouvent représentés par le sous-arbre gauche de ce noeud alors que les points se trouvant à la droite de l'hyperplan vont dans le sous-arbre droit. La direction de l'hyperplan est choisie de la manière suivante : Chaque noeud de l'arbre est associé avec des k dimensions, avec l'hyperplan de ce noeud perpandiculaire à la direction de son axe. Ainse, par exemple, si pour une certaine découpe on choisit l'axe \"x\", tout les points du sous-arbre ayant une valeur \"x\" inférieure à celle du noeud vont aller dans le sous-arbre de gauche, et les autres points seront dans le droit. Dans un tel cas, l'hyperplan séparateur crée est bien orthogonal à l'axe \"x\"."
   ]
  },
  {
   "cell_type": "markdown",
   "metadata": {},
   "source": [
    "### Construction"
   ]
  },
  {
   "cell_type": "markdown",
   "metadata": {},
   "source": [
    "Sachant qu'il y a beaucoup de manière differentes de choisir des plans séparateurs alignés avec les axes, il y a tout autant de manière de construire des arbres k-d. Nous avons utilisé la méthode suivante :\n",
    "\n",
    "Au fur et à mesure qu'on s'enfonce dans l'arbre, les axes choisis pour sélectioner les plans séparateurs sont alternés de manière cyclique. Par exemple dans le cas où k = 3, la racine aurait un plan séparateur selon \"x\", alors que ses enfants serait séparés par \"y\", ses petit-enfants par \"z\" et ses arrières petit-enfants encore par \"x\" etc.\n",
    "\n",
    "Les séparation sont faites en choisissant la médiane des points étant séparés, médiane par rapport à la coordonée séparatrice. La médiane étant une fonction holistique (il est nécessaire de connaître toutes les données avant de la calculer). Cela peut compliquer l'implémentation sur des données qui serait répartis dans différents clusters. Cependant, l'article de Russell A. Brown montre comment implémenter un tel arbre en utilisant MapReduce. Nous avons donc suivi les instructions données dans l'article afin d'implémenter en Spark l'algorithme permettant de dessiner des arbres k-d.\n"
   ]
  },
  {
   "cell_type": "markdown",
   "metadata": {},
   "source": [
    "### Algorithme"
   ]
  },
  {
   "cell_type": "markdown",
   "metadata": {},
   "source": [
    "L'algorithme décrit dans l'article permet de construire un arbre k-d avec MapReduce dans un temps proportionel à nlogn.\n",
    "L'algorithme commence par trier les données en utilisant une méthode implémenté dans Spark, \"sortByKey\". Puis utilise une extension pour trouver la médiane. Il est possible de calculer en parallele les dimensions de toutes les partitions que Spark a crée. Ceci permet alors d'identifier dans quelle partition l'élement médian se trouve et d'obtenir sa valeur. Une fois identifié, l'algorithme est rappellé de manière récursive sur les deux sous-arbres formés grâce à la méthode filter qui permet de filtrer (dans notre cas) les éléments supérieurs à l'élément médian, puis les éléments inférieurs."
   ]
  },
  {
   "cell_type": "markdown",
   "metadata": {},
   "source": [
    "Spark permet de ne pas garder l'arbre en mémoire, il garde juste des pointeurs permetants de relier chaque noeud à ses enfants."
   ]
  },
  {
   "cell_type": "markdown",
   "metadata": {},
   "source": [
    "## Installation de pyspark"
   ]
  },
  {
   "cell_type": "code",
   "execution_count": 2,
   "metadata": {
    "collapsed": true
   },
   "outputs": [],
   "source": [
    "import findspark\n",
    "sparkHome = \"C:\\Dev\\Spark\\spark-2.2.0-bin-hadoop2.7\"\n",
    "findspark.init(sparkHome)"
   ]
  },
  {
   "cell_type": "markdown",
   "metadata": {},
   "source": [
    "### Petit essai pour calculer PI"
   ]
  },
  {
   "cell_type": "code",
   "execution_count": 3,
   "metadata": {
    "collapsed": true
   },
   "outputs": [],
   "source": [
    "def printSpendTime (startTime) :\n",
    "    spendTime = time.time() - startTime\n",
    "    m, s = divmod(spendTime, 60)\n",
    "    h, m = divmod(m, 60)\n",
    "    print(\"--------------------------------------------------\")\n",
    "    print (\"-----   Temps écoulé : %dh%02dm%02ds\" % (h, m, s))\n",
    "    print(\"--------------------------------------------------\")\n",
    "    return"
   ]
  },
  {
   "cell_type": "code",
   "execution_count": 4,
   "metadata": {},
   "outputs": [
    {
     "data": {
      "text/plain": [
       "'\\nimport pyspark\\nimport random\\nimport time\\n\\nstartTime = time.time()\\n\\nsc = pyspark.SparkContext(appName=\"Pi\")\\nnum_samples = 100000000\\n\\ndef inside(p):     \\n  x, y = random.random(), random.random()\\n  return x*x + y*y < 1\\n\\ncount = sc.parallelize(range(0, num_samples)).filter(inside).count()\\n\\npi = 4 * count / num_samples\\nprint(pi)\\n\\nsc.stop()\\n\\nprintSpendTime(startTime)\\n'"
      ]
     },
     "execution_count": 4,
     "metadata": {},
     "output_type": "execute_result"
    }
   ],
   "source": [
    "'''\n",
    "import pyspark\n",
    "import random\n",
    "import time\n",
    "\n",
    "startTime = time.time()\n",
    "\n",
    "sc = pyspark.SparkContext(appName=\"Pi\")\n",
    "num_samples = 100000000\n",
    "\n",
    "def inside(p):     \n",
    "  x, y = random.random(), random.random()\n",
    "  return x*x + y*y < 1\n",
    "\n",
    "count = sc.parallelize(range(0, num_samples)).filter(inside).count()\n",
    "\n",
    "pi = 4 * count / num_samples\n",
    "print(pi)\n",
    "\n",
    "sc.stop()\n",
    "\n",
    "printSpendTime(startTime)\n",
    "'''"
   ]
  },
  {
   "cell_type": "markdown",
   "metadata": {},
   "source": [
    "## Arbre k-d classique"
   ]
  },
  {
   "cell_type": "markdown",
   "metadata": {},
   "source": [
    "### Création d'un jeu de données"
   ]
  },
  {
   "cell_type": "code",
   "execution_count": 5,
   "metadata": {},
   "outputs": [
    {
     "data": {
      "text/html": [
       "<div>\n",
       "<style>\n",
       "    .dataframe thead tr:only-child th {\n",
       "        text-align: right;\n",
       "    }\n",
       "\n",
       "    .dataframe thead th {\n",
       "        text-align: left;\n",
       "    }\n",
       "\n",
       "    .dataframe tbody tr th {\n",
       "        vertical-align: top;\n",
       "    }\n",
       "</style>\n",
       "<table border=\"1\" class=\"dataframe\">\n",
       "  <thead>\n",
       "    <tr style=\"text-align: right;\">\n",
       "      <th></th>\n",
       "      <th>X</th>\n",
       "      <th>Y</th>\n",
       "    </tr>\n",
       "  </thead>\n",
       "  <tbody>\n",
       "    <tr>\n",
       "      <th>0</th>\n",
       "      <td>76.894282</td>\n",
       "      <td>57.999453</td>\n",
       "    </tr>\n",
       "    <tr>\n",
       "      <th>1</th>\n",
       "      <td>68.060074</td>\n",
       "      <td>28.815524</td>\n",
       "    </tr>\n",
       "    <tr>\n",
       "      <th>2</th>\n",
       "      <td>24.995544</td>\n",
       "      <td>7.700585</td>\n",
       "    </tr>\n",
       "    <tr>\n",
       "      <th>3</th>\n",
       "      <td>45.286110</td>\n",
       "      <td>24.340120</td>\n",
       "    </tr>\n",
       "    <tr>\n",
       "      <th>4</th>\n",
       "      <td>25.534164</td>\n",
       "      <td>22.374971</td>\n",
       "    </tr>\n",
       "    <tr>\n",
       "      <th>5</th>\n",
       "      <td>61.979549</td>\n",
       "      <td>4.243859</td>\n",
       "    </tr>\n",
       "    <tr>\n",
       "      <th>6</th>\n",
       "      <td>62.827658</td>\n",
       "      <td>99.881650</td>\n",
       "    </tr>\n",
       "    <tr>\n",
       "      <th>7</th>\n",
       "      <td>54.278623</td>\n",
       "      <td>26.908240</td>\n",
       "    </tr>\n",
       "    <tr>\n",
       "      <th>8</th>\n",
       "      <td>69.885721</td>\n",
       "      <td>5.366379</td>\n",
       "    </tr>\n",
       "    <tr>\n",
       "      <th>9</th>\n",
       "      <td>22.985058</td>\n",
       "      <td>73.266519</td>\n",
       "    </tr>\n",
       "  </tbody>\n",
       "</table>\n",
       "</div>"
      ],
      "text/plain": [
       "           X          Y\n",
       "0  76.894282  57.999453\n",
       "1  68.060074  28.815524\n",
       "2  24.995544   7.700585\n",
       "3  45.286110  24.340120\n",
       "4  25.534164  22.374971\n",
       "5  61.979549   4.243859\n",
       "6  62.827658  99.881650\n",
       "7  54.278623  26.908240\n",
       "8  69.885721   5.366379\n",
       "9  22.985058  73.266519"
      ]
     },
     "execution_count": 5,
     "metadata": {},
     "output_type": "execute_result"
    }
   ],
   "source": [
    "import numpy as np\n",
    "import pandas\n",
    "\n",
    "n = 10\n",
    "data = pandas.DataFrame(np.random.rand(n,2)*100,  columns = ['X', 'Y'])\n",
    "data.iloc[0:10, ]"
   ]
  },
  {
   "cell_type": "code",
   "execution_count": 6,
   "metadata": {},
   "outputs": [
    {
     "data": {
      "image/png": "[encoded data removed]",
      "text/plain": [
       "<matplotlib.figure.Figure at 0x24735671fd0>"
      ]
     },
     "metadata": {},
     "output_type": "display_data"
    }
   ],
   "source": [
    "import matplotlib.pyplot as plt\n",
    "\n",
    "plt.plot(data[['X']], data[['Y']], 'o')\n",
    "plt.show()"
   ]
  },
  {
   "cell_type": "markdown",
   "metadata": {},
   "source": [
    "### Définition d'une structure de données pour les arbres binaires"
   ]
  },
  {
   "cell_type": "code",
   "execution_count": 7,
   "metadata": {
    "collapsed": true
   },
   "outputs": [],
   "source": [
    "### Classe permettant de definir un arbre binaire simple\n",
    "### Il se constitue d'un noeud racine, de deux sous-arbres\n",
    "### et des donnees correspondant au noeud racine\n",
    "class Tree(object) :\n",
    "    \n",
    "    ## Constructeur simple\n",
    "    def __init__(self) :\n",
    "        self.left = None\n",
    "        self.right = None\n",
    "        self.key = None\n",
    "        self.data = None\n",
    "    \n",
    "    ## Reprensation de l'arbre sous forme de chaine\n",
    "    ## de caracteres\n",
    "    def __str__(self) :\n",
    "        return self.strRec(0)\n",
    "    \n",
    "    ## Represente l'arbre sous forme de chaine de caracteres\n",
    "    ## de facon recursive\n",
    "    def strRec(self, depth) :\n",
    "        line = \"-\" * 3 * depth\n",
    "        res = line + str(self.data)\n",
    "        if self.left :\n",
    "            res += \"\\n\" + self.left.strRec(depth+1)\n",
    "        if self.right :\n",
    "            res += \"\\n\" + self.right.strRec(depth+1)\n",
    "        return res"
   ]
  },
  {
   "cell_type": "code",
   "execution_count": 8,
   "metadata": {
    "collapsed": true
   },
   "outputs": [],
   "source": [
    "import matplotlib.pyplot as plt\n",
    "import matplotlib.lines as lines\n",
    "\n",
    "### Trace un arbre k-d (classe 'Tree') de facon recursive\n",
    "def pltTreeRec(ax, tree, keyX, keyY, xLim, yLim) :\n",
    "    if tree :\n",
    "        x, y = tree.data[keyX], tree.data[keyY]\n",
    "        if tree.key == keyX :\n",
    "            pltTreeRec(ax, tree.left, keyX, keyY, (xLim[0], x), yLim)\n",
    "            pltTreeRec(ax, tree.right, keyX, keyY, (x, xLim[1]), yLim)\n",
    "            ax.add_line(lines.Line2D((x, x), yLim, linewidth=0.5, color='red'))\n",
    "        elif tree.key == keyY :\n",
    "            pltTreeRec(ax, tree.left, keyX, keyY, xLim, (yLim[0], y))\n",
    "            pltTreeRec(ax, tree.right, keyX, keyY, xLim, (y, yLim[1]))\n",
    "            ax.add_line(lines.Line2D(xLim, (y, y), linewidth=0.5, color='red'))\n",
    "        plt.plot(x, y, 'o', color='#1f77b4')\n",
    "\n",
    "### Trace un jeu de donnees et l'arbre k-d associe.\n",
    "### Le parametre 'tree' doit etre une instance de la \n",
    "### classe 'Tree'\n",
    "def plotDataTree(data, tree) :\n",
    "    colList = data.columns.values.tolist()\n",
    "    keyX, keyY = colList[0], colList[1]\n",
    "    ax = plt.axes()\n",
    "    plt.plot(data[['X']], data[['Y']], 'o', color='#1f77b4')\n",
    "    xLim, yLim = ax.get_xlim(), ax.get_ylim()\n",
    "    pltTreeRec(ax, tree, keyX, keyY, xLim, yLim)\n",
    "    plt.show()"
   ]
  },
  {
   "cell_type": "markdown",
   "metadata": {},
   "source": [
    "### Algorithme \"naïf\" pour constituer un arbre k-d"
   ]
  },
  {
   "cell_type": "markdown",
   "metadata": {},
   "source": [
    "<p>\n",
    "On propose une première implémentation, \"naïve\", pour la constitution d'un arbre k-d. Le principe : on découpe de façon cyclique selon les différentes dimension ; à chaque étape on recherche la médiane du tableau (donc une opération de tri) selon la dimension courante ; on lui attache deux sous-arbres correspondants aux valeurs inférieures (resp. supérieures) à la médiane.\n",
    "</p>\n",
    "<p>\n",
    "D'après Bentley, si on est en mesure de trouver la médiane en $O(n)$, la complexité de l'algorithme est en $O(n\\log(n))$.\n",
    "</p>"
   ]
  },
  {
   "cell_type": "code",
   "execution_count": 9,
   "metadata": {
    "collapsed": true
   },
   "outputs": [],
   "source": [
    "### Fonction recursive pour constituer un arbre k-d\n",
    "def arbreKDnaifRec (data, colList, curCol) :\n",
    "    nCol = len(colList)\n",
    "    nRow = data.shape[0]\n",
    "    sortCol = colList[curCol]\n",
    "    if nRow == 0 :\n",
    "        return None\n",
    "    elif nRow == 1 :\n",
    "        dataNode = data.iloc[0,]\n",
    "        rootNode = Tree()\n",
    "        rootNode.key = sortCol\n",
    "        rootNode.data = dict()\n",
    "        for col in colList :\n",
    "            rootNode.data[col] = dataNode[col].item()\n",
    "        return rootNode\n",
    "    median = int(nRow / 2)\n",
    "    if nRow % 2 == 1 :\n",
    "        median = int((nRow-1) / 2)\n",
    "    nextCol = (curCol + 1) % nCol\n",
    "    #if nextCol > nCol :\n",
    "    #    nextCol = 0\n",
    "    dataSort = data.sort_values(by=sortCol)\n",
    "    dataNode = dataSort.iloc[median,]\n",
    "    rootNode = Tree()\n",
    "    rootNode.key = sortCol\n",
    "    rootNode.data = dict()\n",
    "    for col in colList :\n",
    "        rootNode.data[col] = dataNode[col].item()\n",
    "    rootNode.left = arbreKDnaifRec(dataSort.iloc[0:median,], colList, nextCol)\n",
    "    rootNode.right = arbreKDnaifRec(dataSort.iloc[(median+1):nRow,], colList, nextCol)\n",
    "    return rootNode\n",
    "\n",
    "### Fonction englobante permettant la construction d'un arbre k-d\n",
    "def arbreKDnaif (data) :\n",
    "    colList = data.columns.values.tolist()\n",
    "    curCol = 0\n",
    "    return(arbreKDnaifRec(data, colList, curCol))"
   ]
  },
  {
   "cell_type": "code",
   "execution_count": 10,
   "metadata": {},
   "outputs": [
    {
     "name": "stdout",
     "output_type": "stream",
     "text": [
      "{'X': 61.979548686953464, 'Y': 4.243859494529634}\n",
      "---{'X': 45.28610994172585, 'Y': 24.34012039451754}\n",
      "------{'X': 25.534164013603366, 'Y': 22.374971084341876}\n",
      "---------{'X': 24.9955439412907, 'Y': 7.700585065952026}\n",
      "------{'X': 54.27862348328062, 'Y': 26.908240263093287}\n",
      "---------{'X': 22.985058011623984, 'Y': 73.26651866481993}\n",
      "---{'X': 76.89428181499973, 'Y': 57.99945305039086}\n",
      "------{'X': 69.8857206605177, 'Y': 5.36637924951936}\n",
      "---------{'X': 68.06007404602929, 'Y': 28.815523597856163}\n",
      "------{'X': 62.827657703403695, 'Y': 99.88165040441616}\n"
     ]
    },
    {
     "data": {
      "image/png": "[encoded data removed]",
      "text/plain": [
       "<matplotlib.figure.Figure at 0x247365a8cf8>"
      ]
     },
     "metadata": {},
     "output_type": "display_data"
    }
   ],
   "source": [
    "### Test de la fonction 'arbreKDnaif' sur le \n",
    "### jeu de donnees 'data'\n",
    "arbre = arbreKDnaif(data)\n",
    "print(arbre)\n",
    "plotDataTree(data, arbre)"
   ]
  },
  {
   "cell_type": "markdown",
   "metadata": {
    "collapsed": true
   },
   "source": [
    "### Construction d'un arbre k-d avec pré-tri par dimension"
   ]
  },
  {
   "cell_type": "markdown",
   "metadata": {},
   "source": [
    "<p>\n",
    "On implémente, toujours de façon non distribuée, un algorithme de construction d'un arbre k-d où le tri selon les différentes dimension du jeu de données est fait en amont.\n",
    "</p>"
   ]
  },
  {
   "cell_type": "code",
   "execution_count": 11,
   "metadata": {
    "collapsed": true
   },
   "outputs": [],
   "source": [
    "### Fonction recursive pour constituer un arbre k-d\n",
    "def arbreKDpretriRec (sortedData, colList, curCol) :\n",
    "    nCol = len(colList)\n",
    "    sortCol = colList[curCol]\n",
    "    curData = sortedData[sortCol]\n",
    "    nRow = curData.shape[0]\n",
    "    if nRow == 0 :\n",
    "        return None\n",
    "    elif nRow == 1 :\n",
    "        dataNode = curData.iloc[0,]\n",
    "        rootNode = Tree()\n",
    "        rootNode.key = sortCol\n",
    "        rootNode.data = dict()\n",
    "        for col in colList :\n",
    "            rootNode.data[col] = dataNode[col].item()\n",
    "        return rootNode\n",
    "    median = int(nRow / 2)\n",
    "    if nRow % 2 == 1 :\n",
    "        median = int((nRow-1) / 2)\n",
    "    nextCol = (curCol + 1) % nCol\n",
    "    dataNode = curData.iloc[median,]\n",
    "    rootNode = Tree()\n",
    "    rootNode.key = sortCol\n",
    "    rootNode.data = dict()\n",
    "    for col in colList :\n",
    "        rootNode.data[col] = dataNode[col].item()\n",
    "    leftSortedData = dict()\n",
    "    rightSortedData = dict()\n",
    "    for col in colList :\n",
    "        leftSortedData[col] = sortedData[col][sortedData[col][sortCol]<rootNode.data[sortCol]]\n",
    "        rightSortedData[col] = sortedData[col][sortedData[col][sortCol]>rootNode.data[sortCol]]\n",
    "    rootNode.left = arbreKDpretriRec(leftSortedData, colList, nextCol)\n",
    "    rootNode.right = arbreKDpretriRec(rightSortedData, colList, nextCol)\n",
    "    return rootNode\n",
    "\n",
    "### Fonction englobante permettant la construction d'un arbre k-d\n",
    "def arbreKDpretri (data) :\n",
    "    colList = data.columns.values.tolist()\n",
    "    sortedData = dict()\n",
    "    for col in colList :\n",
    "        sortedData[col] = data.sort_values(by = col)\n",
    "    curCol = 0\n",
    "    return(arbreKDpretriRec(sortedData, colList, curCol))"
   ]
  },
  {
   "cell_type": "code",
   "execution_count": 12,
   "metadata": {},
   "outputs": [
    {
     "name": "stdout",
     "output_type": "stream",
     "text": [
      "{'X': 61.979548686953464, 'Y': 4.243859494529634}\n",
      "---{'X': 45.28610994172585, 'Y': 24.34012039451754}\n",
      "------{'X': 25.534164013603366, 'Y': 22.374971084341876}\n",
      "---------{'X': 24.9955439412907, 'Y': 7.700585065952026}\n",
      "------{'X': 54.27862348328062, 'Y': 26.908240263093287}\n",
      "---------{'X': 22.985058011623984, 'Y': 73.26651866481993}\n",
      "---{'X': 76.89428181499973, 'Y': 57.99945305039086}\n",
      "------{'X': 69.8857206605177, 'Y': 5.36637924951936}\n",
      "---------{'X': 68.06007404602929, 'Y': 28.815523597856163}\n",
      "------{'X': 62.827657703403695, 'Y': 99.88165040441616}\n"
     ]
    },
    {
     "data": {
      "image/png": "[encoded data removed]",
      "text/plain": [
       "<matplotlib.figure.Figure at 0x24736741f28>"
      ]
     },
     "metadata": {},
     "output_type": "display_data"
    }
   ],
   "source": [
    "### Test de la fonction 'arbreKDpretri' sur le \n",
    "### jeu de donnees 'data'\n",
    "### --> on doit retrouver le même arbre qu'avec 'arbreKDpretri'\n",
    "arbre = arbreKDpretri(data)\n",
    "print(arbre)\n",
    "plotDataTree(data, arbre)"
   ]
  },
  {
   "cell_type": "markdown",
   "metadata": {},
   "source": [
    "## Arbre k-d distribué avec Spark"
   ]
  },
  {
   "cell_type": "markdown",
   "metadata": {},
   "source": [
    "<p>On reprend l'algorithme de constitution d'un arbre k-d avec tri initial selon toutes les dimensions. L'idée est de ne plus charger en mémoire l'intégralité des données, ainsi que l'arbre construit. On utilise pour cela la solution Spark, basée sur les RDD.</p>"
   ]
  },
  {
   "cell_type": "code",
   "execution_count": 13,
   "metadata": {
    "collapsed": true
   },
   "outputs": [],
   "source": [
    "### Export du jeu de données au format CSV, pour permettre un traitement général\n",
    "data.to_csv(\"data.csv\", index=False)"
   ]
  },
  {
   "cell_type": "code",
   "execution_count": 14,
   "metadata": {},
   "outputs": [
    {
     "name": "stdout",
     "output_type": "stream",
     "text": [
      "10\n",
      "[{'X': '76.89428181499973', 'Y': '57.99945305039086'}, {'X': '68.06007404602929', 'Y': '28.815523597856163'}, {'X': '24.9955439412907', 'Y': '7.700585065952026'}, {'X': '45.28610994172585', 'Y': '24.34012039451754'}, {'X': '25.534164013603366', 'Y': '22.374971084341876'}, {'X': '61.979548686953464', 'Y': '4.243859494529634'}, {'X': '62.827657703403695', 'Y': '99.88165040441616'}, {'X': '54.27862348328062', 'Y': '26.908240263093287'}, {'X': '69.8857206605177', 'Y': '5.36637924951936'}, {'X': '22.985058011623984', 'Y': '73.26651866481993'}]\n",
      "--------------------------------------------------\n",
      "-----   Temps écoulé : 0h00m11s\n",
      "--------------------------------------------------\n"
     ]
    }
   ],
   "source": [
    "### Chargement du RDD (dans un fichier CSV)\n",
    "import pyspark\n",
    "import time\n",
    "\n",
    "def loadRecord(line, header) :\n",
    "    values = line.split(\",\")\n",
    "    res = dict()\n",
    "    for i in range(0, len(header)) :\n",
    "        res[header[i]] = values[i]\n",
    "    return res\n",
    "\n",
    "def csvToRdd(sc, file) :\n",
    "    rddFile = sc.textFile(file)\n",
    "    rawHeader = rddFile.first()\n",
    "    header = rawHeader.split(\",\")\n",
    "    rddRows = rddFile.filter(lambda l : l != rawHeader).map(lambda l : loadRecord(l, header))\n",
    "    return rddRows\n",
    "\n",
    "startTime = time.time()\n",
    "\n",
    "sc = pyspark.SparkContext(appName=\"Essai\")\n",
    "\n",
    "rdd = csvToRdd(sc, \"data.csv\")\n",
    "print(rdd.count())\n",
    "print(rdd.take(10))\n",
    "\n",
    "sc.stop()\n",
    "\n",
    "printSpendTime(startTime)"
   ]
  },
  {
   "cell_type": "code",
   "execution_count": 15,
   "metadata": {},
   "outputs": [
    {
     "name": "stdout",
     "output_type": "stream",
     "text": [
      "0\n",
      "1\n",
      "2\n"
     ]
    }
   ],
   "source": [
    "test = iter(range(0, 3))\n",
    "print(next(test))\n",
    "print(next(test))\n",
    "print(next(test))\n",
    "#print(next(test))"
   ]
  },
  {
   "cell_type": "code",
   "execution_count": 16,
   "metadata": {},
   "outputs": [
    {
     "name": "stdout",
     "output_type": "stream",
     "text": [
      "('a', 'b', 'c')\n",
      "a\n",
      "('a', 'b', 'c')\n",
      "('a', 'b', 'c')\n",
      "True\n"
     ]
    }
   ],
   "source": [
    "import ast\n",
    "strTup = \"('a', 'b', 'c')\"\n",
    "test = ast.literal_eval(strTup)\n",
    "print(test)\n",
    "print(test[0])\n",
    "print(strTup)\n",
    "print(str(test))\n",
    "print(str(test)==strTup)"
   ]
  },
  {
   "cell_type": "code",
   "execution_count": 17,
   "metadata": {},
   "outputs": [
    {
     "name": "stdout",
     "output_type": "stream",
     "text": [
      "--------------------------------------------------\n",
      "Constitution d'un arbre KD avec Spark\n",
      "Entrée : data.csv - Sortie : arbre.txt\n",
      "Mediane : \n",
      "{'X': 61.979548686953464, 'Y': 4.243859494529634}\n",
      "Index : \n",
      "0\n",
      "Colonne : X\n",
      "Mediane : \n",
      "{'X': 45.28610994172585, 'Y': 24.34012039451754}\n",
      "Index : \n",
      "1\n",
      "Colonne : Y\n",
      "Mediane : \n",
      "{'X': 25.534164013603366, 'Y': 22.374971084341876}\n",
      "Index : \n",
      "2\n",
      "Colonne : X\n",
      "Mediane : \n",
      "{'X': 25.534164013603366, 'Y': 22.374971084341876}\n",
      "Index : \n",
      "5\n",
      "Colonne : X\n",
      "Mediane : \n",
      "{'X': 45.28610994172585, 'Y': 24.34012039451754}\n",
      "Index : \n",
      "8\n",
      "Colonne : Y\n",
      "Mediane : \n",
      "{'X': 25.534164013603366, 'Y': 22.374971084341876}\n",
      "Index : \n",
      "9\n",
      "Colonne : X\n"
     ]
    },
    {
     "ename": "StopIteration",
     "evalue": "",
     "output_type": "error",
     "traceback": [
      "\u001b[1;31m---------------------------------------------------------------------------\u001b[0m",
      "\u001b[1;31mStopIteration\u001b[0m                             Traceback (most recent call last)",
      "\u001b[1;32m<ipython-input-17-ba727b796c07>\u001b[0m in \u001b[0;36m<module>\u001b[1;34m()\u001b[0m\n\u001b[0;32m     75\u001b[0m \u001b[1;33m\u001b[0m\u001b[0m\n\u001b[0;32m     76\u001b[0m \u001b[0msc\u001b[0m \u001b[1;33m=\u001b[0m \u001b[0mpyspark\u001b[0m\u001b[1;33m.\u001b[0m\u001b[0mSparkContext\u001b[0m\u001b[1;33m(\u001b[0m\u001b[0mappName\u001b[0m\u001b[1;33m=\u001b[0m\u001b[1;34m\"arbreKD\"\u001b[0m\u001b[1;33m)\u001b[0m\u001b[1;33m\u001b[0m\u001b[0m\n\u001b[1;32m---> 77\u001b[1;33m \u001b[0marbre\u001b[0m \u001b[1;33m=\u001b[0m \u001b[0marbreKDspark\u001b[0m\u001b[1;33m(\u001b[0m\u001b[0msc\u001b[0m\u001b[1;33m,\u001b[0m \u001b[1;34m\"data.csv\"\u001b[0m\u001b[1;33m,\u001b[0m \u001b[1;34m\"arbre.txt\"\u001b[0m\u001b[1;33m)\u001b[0m\u001b[1;33m\u001b[0m\u001b[0m\n\u001b[0m\u001b[0;32m     78\u001b[0m \u001b[0msc\u001b[0m\u001b[1;33m.\u001b[0m\u001b[0mstop\u001b[0m\u001b[1;33m(\u001b[0m\u001b[1;33m)\u001b[0m\u001b[1;33m\u001b[0m\u001b[0m\n",
      "\u001b[1;32m<ipython-input-17-ba727b796c07>\u001b[0m in \u001b[0;36marbreKDspark\u001b[1;34m(sc, inputFile, outputFile)\u001b[0m\n\u001b[0;32m     68\u001b[0m     \u001b[0mnRow\u001b[0m \u001b[1;33m=\u001b[0m \u001b[0mrddDict\u001b[0m\u001b[1;33m[\u001b[0m\u001b[0mcolList\u001b[0m\u001b[1;33m[\u001b[0m\u001b[1;36m0\u001b[0m\u001b[1;33m]\u001b[0m\u001b[1;33m]\u001b[0m\u001b[1;33m.\u001b[0m\u001b[0mcount\u001b[0m\u001b[1;33m(\u001b[0m\u001b[1;33m)\u001b[0m\u001b[1;33m\u001b[0m\u001b[0m\n\u001b[0;32m     69\u001b[0m     \u001b[0mkeyIter\u001b[0m \u001b[1;33m=\u001b[0m \u001b[0miter\u001b[0m\u001b[1;33m(\u001b[0m\u001b[0mrange\u001b[0m\u001b[1;33m(\u001b[0m\u001b[1;36m0\u001b[0m\u001b[1;33m,\u001b[0m\u001b[0mnRow\u001b[0m\u001b[1;33m)\u001b[0m\u001b[1;33m)\u001b[0m\u001b[1;33m\u001b[0m\u001b[0m\n\u001b[1;32m---> 70\u001b[1;33m     \u001b[0mres\u001b[0m \u001b[1;33m=\u001b[0m \u001b[0marbreKDsparkRec\u001b[0m\u001b[1;33m(\u001b[0m\u001b[0mrddDict\u001b[0m\u001b[1;33m,\u001b[0m \u001b[0mcolList\u001b[0m\u001b[1;33m,\u001b[0m \u001b[1;36m0\u001b[0m\u001b[1;33m,\u001b[0m \u001b[0mkeyIter\u001b[0m\u001b[1;33m,\u001b[0m \u001b[0moutputFile\u001b[0m\u001b[1;33m)\u001b[0m\u001b[1;33m\u001b[0m\u001b[0m\n\u001b[0m\u001b[0;32m     71\u001b[0m \u001b[1;33m\u001b[0m\u001b[0m\n\u001b[0;32m     72\u001b[0m     \u001b[0mprintSpendTime\u001b[0m\u001b[1;33m(\u001b[0m\u001b[0mstartTime\u001b[0m\u001b[1;33m)\u001b[0m\u001b[1;33m\u001b[0m\u001b[0m\n",
      "\u001b[1;32m<ipython-input-17-ba727b796c07>\u001b[0m in \u001b[0;36marbreKDsparkRec\u001b[1;34m(rddDict, colList, curCol, keyIter, outputFile)\u001b[0m\n\u001b[0;32m     52\u001b[0m         \u001b[0mrightRddDict\u001b[0m\u001b[1;33m[\u001b[0m\u001b[0mcol\u001b[0m\u001b[1;33m]\u001b[0m \u001b[1;33m=\u001b[0m \u001b[0mrddDict\u001b[0m\u001b[1;33m[\u001b[0m\u001b[0mcol\u001b[0m\u001b[1;33m]\u001b[0m\u001b[1;33m.\u001b[0m\u001b[0mfilter\u001b[0m\u001b[1;33m(\u001b[0m\u001b[1;32mlambda\u001b[0m \u001b[0ml\u001b[0m \u001b[1;33m:\u001b[0m \u001b[0ml\u001b[0m\u001b[1;33m[\u001b[0m\u001b[1;36m1\u001b[0m\u001b[1;33m]\u001b[0m\u001b[1;33m[\u001b[0m\u001b[0msortCol\u001b[0m\u001b[1;33m]\u001b[0m\u001b[1;33m<\u001b[0m\u001b[0mmedian\u001b[0m\u001b[1;33m[\u001b[0m\u001b[0msortCol\u001b[0m\u001b[1;33m]\u001b[0m\u001b[1;33m)\u001b[0m\u001b[1;33m\u001b[0m\u001b[0m\n\u001b[0;32m     53\u001b[0m     \u001b[0mleft\u001b[0m \u001b[1;33m=\u001b[0m \u001b[0marbreKDsparkRec\u001b[0m\u001b[1;33m(\u001b[0m\u001b[0mleftRddDict\u001b[0m\u001b[1;33m,\u001b[0m \u001b[0mcolList\u001b[0m\u001b[1;33m,\u001b[0m \u001b[0mnextCol\u001b[0m\u001b[1;33m,\u001b[0m \u001b[0mkeyIter\u001b[0m\u001b[1;33m,\u001b[0m \u001b[0moutputFile\u001b[0m\u001b[1;33m)\u001b[0m\u001b[1;33m\u001b[0m\u001b[0m\n\u001b[1;32m---> 54\u001b[1;33m     \u001b[0mright\u001b[0m \u001b[1;33m=\u001b[0m \u001b[0marbreKDsparkRec\u001b[0m\u001b[1;33m(\u001b[0m\u001b[0mrightRddDict\u001b[0m\u001b[1;33m,\u001b[0m \u001b[0mcolList\u001b[0m\u001b[1;33m,\u001b[0m \u001b[0mnextCol\u001b[0m\u001b[1;33m,\u001b[0m \u001b[0mkeyIter\u001b[0m\u001b[1;33m,\u001b[0m \u001b[0moutputFile\u001b[0m\u001b[1;33m)\u001b[0m\u001b[1;33m\u001b[0m\u001b[0m\n\u001b[0m\u001b[0;32m     55\u001b[0m     \u001b[0mres\u001b[0m \u001b[1;33m=\u001b[0m \u001b[1;33m(\u001b[0m\u001b[0mindex\u001b[0m\u001b[1;33m,\u001b[0m \u001b[1;33m(\u001b[0m\u001b[0mmedian\u001b[0m\u001b[1;33m,\u001b[0m \u001b[0mleft\u001b[0m\u001b[1;33m[\u001b[0m\u001b[1;36m0\u001b[0m\u001b[1;33m]\u001b[0m\u001b[1;33m,\u001b[0m \u001b[0mright\u001b[0m\u001b[1;33m[\u001b[0m\u001b[1;36m0\u001b[0m\u001b[1;33m]\u001b[0m\u001b[1;33m)\u001b[0m\u001b[1;33m)\u001b[0m\u001b[1;33m\u001b[0m\u001b[0m\n\u001b[0;32m     56\u001b[0m     \u001b[1;32mwith\u001b[0m \u001b[0mopen\u001b[0m\u001b[1;33m(\u001b[0m\u001b[0moutputFile\u001b[0m\u001b[1;33m,\u001b[0m \u001b[1;34m\"a\"\u001b[0m\u001b[1;33m)\u001b[0m \u001b[1;32mas\u001b[0m \u001b[0mfw\u001b[0m\u001b[1;33m:\u001b[0m\u001b[1;33m\u001b[0m\u001b[0m\n",
      "\u001b[1;32m<ipython-input-17-ba727b796c07>\u001b[0m in \u001b[0;36marbreKDsparkRec\u001b[1;34m(rddDict, colList, curCol, keyIter, outputFile)\u001b[0m\n\u001b[0;32m     51\u001b[0m         \u001b[0mleftRddDict\u001b[0m\u001b[1;33m[\u001b[0m\u001b[0mcol\u001b[0m\u001b[1;33m]\u001b[0m \u001b[1;33m=\u001b[0m \u001b[0mrddDict\u001b[0m\u001b[1;33m[\u001b[0m\u001b[0mcol\u001b[0m\u001b[1;33m]\u001b[0m\u001b[1;33m.\u001b[0m\u001b[0mfilter\u001b[0m\u001b[1;33m(\u001b[0m\u001b[1;32mlambda\u001b[0m \u001b[0ml\u001b[0m \u001b[1;33m:\u001b[0m \u001b[0ml\u001b[0m\u001b[1;33m[\u001b[0m\u001b[1;36m1\u001b[0m\u001b[1;33m]\u001b[0m\u001b[1;33m[\u001b[0m\u001b[0msortCol\u001b[0m\u001b[1;33m]\u001b[0m\u001b[1;33m<\u001b[0m\u001b[0mmedian\u001b[0m\u001b[1;33m[\u001b[0m\u001b[0msortCol\u001b[0m\u001b[1;33m]\u001b[0m\u001b[1;33m)\u001b[0m\u001b[1;33m\u001b[0m\u001b[0m\n\u001b[0;32m     52\u001b[0m         \u001b[0mrightRddDict\u001b[0m\u001b[1;33m[\u001b[0m\u001b[0mcol\u001b[0m\u001b[1;33m]\u001b[0m \u001b[1;33m=\u001b[0m \u001b[0mrddDict\u001b[0m\u001b[1;33m[\u001b[0m\u001b[0mcol\u001b[0m\u001b[1;33m]\u001b[0m\u001b[1;33m.\u001b[0m\u001b[0mfilter\u001b[0m\u001b[1;33m(\u001b[0m\u001b[1;32mlambda\u001b[0m \u001b[0ml\u001b[0m \u001b[1;33m:\u001b[0m \u001b[0ml\u001b[0m\u001b[1;33m[\u001b[0m\u001b[1;36m1\u001b[0m\u001b[1;33m]\u001b[0m\u001b[1;33m[\u001b[0m\u001b[0msortCol\u001b[0m\u001b[1;33m]\u001b[0m\u001b[1;33m<\u001b[0m\u001b[0mmedian\u001b[0m\u001b[1;33m[\u001b[0m\u001b[0msortCol\u001b[0m\u001b[1;33m]\u001b[0m\u001b[1;33m)\u001b[0m\u001b[1;33m\u001b[0m\u001b[0m\n\u001b[1;32m---> 53\u001b[1;33m     \u001b[0mleft\u001b[0m \u001b[1;33m=\u001b[0m \u001b[0marbreKDsparkRec\u001b[0m\u001b[1;33m(\u001b[0m\u001b[0mleftRddDict\u001b[0m\u001b[1;33m,\u001b[0m \u001b[0mcolList\u001b[0m\u001b[1;33m,\u001b[0m \u001b[0mnextCol\u001b[0m\u001b[1;33m,\u001b[0m \u001b[0mkeyIter\u001b[0m\u001b[1;33m,\u001b[0m \u001b[0moutputFile\u001b[0m\u001b[1;33m)\u001b[0m\u001b[1;33m\u001b[0m\u001b[0m\n\u001b[0m\u001b[0;32m     54\u001b[0m     \u001b[0mright\u001b[0m \u001b[1;33m=\u001b[0m \u001b[0marbreKDsparkRec\u001b[0m\u001b[1;33m(\u001b[0m\u001b[0mrightRddDict\u001b[0m\u001b[1;33m,\u001b[0m \u001b[0mcolList\u001b[0m\u001b[1;33m,\u001b[0m \u001b[0mnextCol\u001b[0m\u001b[1;33m,\u001b[0m \u001b[0mkeyIter\u001b[0m\u001b[1;33m,\u001b[0m \u001b[0moutputFile\u001b[0m\u001b[1;33m)\u001b[0m\u001b[1;33m\u001b[0m\u001b[0m\n\u001b[0;32m     55\u001b[0m     \u001b[0mres\u001b[0m \u001b[1;33m=\u001b[0m \u001b[1;33m(\u001b[0m\u001b[0mindex\u001b[0m\u001b[1;33m,\u001b[0m \u001b[1;33m(\u001b[0m\u001b[0mmedian\u001b[0m\u001b[1;33m,\u001b[0m \u001b[0mleft\u001b[0m\u001b[1;33m[\u001b[0m\u001b[1;36m0\u001b[0m\u001b[1;33m]\u001b[0m\u001b[1;33m,\u001b[0m \u001b[0mright\u001b[0m\u001b[1;33m[\u001b[0m\u001b[1;36m0\u001b[0m\u001b[1;33m]\u001b[0m\u001b[1;33m)\u001b[0m\u001b[1;33m)\u001b[0m\u001b[1;33m\u001b[0m\u001b[0m\n",
      "\u001b[1;32m<ipython-input-17-ba727b796c07>\u001b[0m in \u001b[0;36marbreKDsparkRec\u001b[1;34m(rddDict, colList, curCol, keyIter, outputFile)\u001b[0m\n\u001b[0;32m     51\u001b[0m         \u001b[0mleftRddDict\u001b[0m\u001b[1;33m[\u001b[0m\u001b[0mcol\u001b[0m\u001b[1;33m]\u001b[0m \u001b[1;33m=\u001b[0m \u001b[0mrddDict\u001b[0m\u001b[1;33m[\u001b[0m\u001b[0mcol\u001b[0m\u001b[1;33m]\u001b[0m\u001b[1;33m.\u001b[0m\u001b[0mfilter\u001b[0m\u001b[1;33m(\u001b[0m\u001b[1;32mlambda\u001b[0m \u001b[0ml\u001b[0m \u001b[1;33m:\u001b[0m \u001b[0ml\u001b[0m\u001b[1;33m[\u001b[0m\u001b[1;36m1\u001b[0m\u001b[1;33m]\u001b[0m\u001b[1;33m[\u001b[0m\u001b[0msortCol\u001b[0m\u001b[1;33m]\u001b[0m\u001b[1;33m<\u001b[0m\u001b[0mmedian\u001b[0m\u001b[1;33m[\u001b[0m\u001b[0msortCol\u001b[0m\u001b[1;33m]\u001b[0m\u001b[1;33m)\u001b[0m\u001b[1;33m\u001b[0m\u001b[0m\n\u001b[0;32m     52\u001b[0m         \u001b[0mrightRddDict\u001b[0m\u001b[1;33m[\u001b[0m\u001b[0mcol\u001b[0m\u001b[1;33m]\u001b[0m \u001b[1;33m=\u001b[0m \u001b[0mrddDict\u001b[0m\u001b[1;33m[\u001b[0m\u001b[0mcol\u001b[0m\u001b[1;33m]\u001b[0m\u001b[1;33m.\u001b[0m\u001b[0mfilter\u001b[0m\u001b[1;33m(\u001b[0m\u001b[1;32mlambda\u001b[0m \u001b[0ml\u001b[0m \u001b[1;33m:\u001b[0m \u001b[0ml\u001b[0m\u001b[1;33m[\u001b[0m\u001b[1;36m1\u001b[0m\u001b[1;33m]\u001b[0m\u001b[1;33m[\u001b[0m\u001b[0msortCol\u001b[0m\u001b[1;33m]\u001b[0m\u001b[1;33m<\u001b[0m\u001b[0mmedian\u001b[0m\u001b[1;33m[\u001b[0m\u001b[0msortCol\u001b[0m\u001b[1;33m]\u001b[0m\u001b[1;33m)\u001b[0m\u001b[1;33m\u001b[0m\u001b[0m\n\u001b[1;32m---> 53\u001b[1;33m     \u001b[0mleft\u001b[0m \u001b[1;33m=\u001b[0m \u001b[0marbreKDsparkRec\u001b[0m\u001b[1;33m(\u001b[0m\u001b[0mleftRddDict\u001b[0m\u001b[1;33m,\u001b[0m \u001b[0mcolList\u001b[0m\u001b[1;33m,\u001b[0m \u001b[0mnextCol\u001b[0m\u001b[1;33m,\u001b[0m \u001b[0mkeyIter\u001b[0m\u001b[1;33m,\u001b[0m \u001b[0moutputFile\u001b[0m\u001b[1;33m)\u001b[0m\u001b[1;33m\u001b[0m\u001b[0m\n\u001b[0m\u001b[0;32m     54\u001b[0m     \u001b[0mright\u001b[0m \u001b[1;33m=\u001b[0m \u001b[0marbreKDsparkRec\u001b[0m\u001b[1;33m(\u001b[0m\u001b[0mrightRddDict\u001b[0m\u001b[1;33m,\u001b[0m \u001b[0mcolList\u001b[0m\u001b[1;33m,\u001b[0m \u001b[0mnextCol\u001b[0m\u001b[1;33m,\u001b[0m \u001b[0mkeyIter\u001b[0m\u001b[1;33m,\u001b[0m \u001b[0moutputFile\u001b[0m\u001b[1;33m)\u001b[0m\u001b[1;33m\u001b[0m\u001b[0m\n\u001b[0;32m     55\u001b[0m     \u001b[0mres\u001b[0m \u001b[1;33m=\u001b[0m \u001b[1;33m(\u001b[0m\u001b[0mindex\u001b[0m\u001b[1;33m,\u001b[0m \u001b[1;33m(\u001b[0m\u001b[0mmedian\u001b[0m\u001b[1;33m,\u001b[0m \u001b[0mleft\u001b[0m\u001b[1;33m[\u001b[0m\u001b[1;36m0\u001b[0m\u001b[1;33m]\u001b[0m\u001b[1;33m,\u001b[0m \u001b[0mright\u001b[0m\u001b[1;33m[\u001b[0m\u001b[1;36m0\u001b[0m\u001b[1;33m]\u001b[0m\u001b[1;33m)\u001b[0m\u001b[1;33m)\u001b[0m\u001b[1;33m\u001b[0m\u001b[0m\n",
      "\u001b[1;32m<ipython-input-17-ba727b796c07>\u001b[0m in \u001b[0;36marbreKDsparkRec\u001b[1;34m(rddDict, colList, curCol, keyIter, outputFile)\u001b[0m\n\u001b[0;32m     34\u001b[0m         \u001b[1;32mreturn\u001b[0m \u001b[1;33m(\u001b[0m\u001b[1;32mNone\u001b[0m\u001b[1;33m,\u001b[0m \u001b[1;33m(\u001b[0m\u001b[1;32mNone\u001b[0m\u001b[1;33m,\u001b[0m \u001b[1;32mNone\u001b[0m\u001b[1;33m,\u001b[0m \u001b[1;32mNone\u001b[0m\u001b[1;33m)\u001b[0m\u001b[1;33m)\u001b[0m\u001b[1;33m\u001b[0m\u001b[0m\n\u001b[0;32m     35\u001b[0m     \u001b[1;32melif\u001b[0m \u001b[0mnRow\u001b[0m \u001b[1;33m==\u001b[0m \u001b[1;36m1\u001b[0m \u001b[1;33m:\u001b[0m\u001b[1;33m\u001b[0m\u001b[0m\n\u001b[1;32m---> 36\u001b[1;33m         \u001b[0mres\u001b[0m \u001b[1;33m=\u001b[0m \u001b[1;33m(\u001b[0m\u001b[0mnext\u001b[0m\u001b[1;33m(\u001b[0m\u001b[0mkeyIter\u001b[0m\u001b[1;33m)\u001b[0m\u001b[1;33m,\u001b[0m \u001b[1;33m(\u001b[0m\u001b[0mcurRdd\u001b[0m\u001b[1;33m.\u001b[0m\u001b[0mfirst\u001b[0m\u001b[1;33m(\u001b[0m\u001b[1;33m)\u001b[0m\u001b[1;33m[\u001b[0m\u001b[1;36m1\u001b[0m\u001b[1;33m]\u001b[0m\u001b[1;33m,\u001b[0m \u001b[1;32mNone\u001b[0m\u001b[1;33m,\u001b[0m \u001b[1;32mNone\u001b[0m\u001b[1;33m)\u001b[0m\u001b[1;33m)\u001b[0m\u001b[1;33m\u001b[0m\u001b[0m\n\u001b[0m\u001b[0;32m     37\u001b[0m         \u001b[1;32mwith\u001b[0m \u001b[0mopen\u001b[0m\u001b[1;33m(\u001b[0m\u001b[0moutputFile\u001b[0m\u001b[1;33m,\u001b[0m \u001b[1;34m\"a\"\u001b[0m\u001b[1;33m)\u001b[0m \u001b[1;32mas\u001b[0m \u001b[0mfw\u001b[0m\u001b[1;33m:\u001b[0m\u001b[1;33m\u001b[0m\u001b[0m\n\u001b[0;32m     38\u001b[0m             \u001b[0mfw\u001b[0m\u001b[1;33m.\u001b[0m\u001b[0mwrite\u001b[0m\u001b[1;33m(\u001b[0m\u001b[0mstr\u001b[0m\u001b[1;33m(\u001b[0m\u001b[0mres\u001b[0m\u001b[1;33m)\u001b[0m \u001b[1;33m+\u001b[0m \u001b[1;34m\"\\n\"\u001b[0m\u001b[1;33m)\u001b[0m\u001b[1;33m\u001b[0m\u001b[0m\n",
      "\u001b[1;31mStopIteration\u001b[0m: "
     ]
    }
   ],
   "source": [
    "import pyspark\n",
    "import time\n",
    "import numpy as np\n",
    "\n",
    "def loadRecord(line, header, col) :\n",
    "    values = line.split(\",\")\n",
    "    res = dict()\n",
    "    for i in range(0, len(header)) :\n",
    "        res[header[i]] = float(values[i])\n",
    "    return (res[col], res)\n",
    "\n",
    "def createRddDict(sc, file) :\n",
    "    rddFile = sc.textFile(file)\n",
    "    rawHeader = rddFile.first()\n",
    "    header = rawHeader.split(\",\")\n",
    "    rawRows = rddFile.filter(lambda l : l != rawHeader)\n",
    "    res = dict()\n",
    "    for col in header :\n",
    "        res[col] = rawRows.map(lambda l : loadRecord(l, header, col)).sortByKey()\n",
    "    return res\n",
    "\n",
    "def getMedian (rdd_sorted) :\n",
    "    l = rdd.glom().map(len).collect()  # get length of each partition \n",
    "\n",
    "    n = sum(l) #number of elements in all partitions\n",
    "    median = int(n / 2)\n",
    "    if n % 2 == 1 :\n",
    "        median = int((n-1) / 2)\n",
    "    cumsuml = np.cumsum(l) - median\n",
    "    filtre = [x for x in cumsuml if x>=0] #filter partition with element smallers than median\n",
    "    partition_median = len(l)-len(filtre) #partition where the median lye\n",
    "    \n",
    "    return(rdd.glom().collect()[partition_median][filtre[0]]) #return the median element (X : Xvalue, Y : Yvalue)\n",
    "\n",
    "\n",
    "def arbreKDsparkRec (rddDict, colList, curCol, keyIter, outputFile) :\n",
    "    nCol = len(colList)\n",
    "    sortCol = colList[curCol]\n",
    "    curRdd = rddDict[sortCol]\n",
    "    nRow = curRdd.count()\n",
    "    if nRow == 0 :\n",
    "        return (None, (None, None, None))\n",
    "    elif nRow == 1 :\n",
    "        res = (next(keyIter), (curRdd.first()[1], None, None))\n",
    "        with open(outputFile, \"a\") as fw:\n",
    "            fw.write(str(res) + \"\\n\")\n",
    "        return res\n",
    "    median = getMedianUgly(curRdd, nRow)\n",
    "    print(\"Mediane : \")\n",
    "    print(median)\n",
    "    index = next(keyIter)\n",
    "    print(\"Index : \")\n",
    "    print(index)\n",
    "    print(\"Colonne : \"+sortCol)\n",
    "    nextCol = (curCol + 1) % nCol\n",
    "    leftRddDict = dict()\n",
    "    rightRddDict = dict()\n",
    "    for col in colList :\n",
    "        leftRddDict[col] = rddDict[col].filter(lambda l : l[1][sortCol]<median[sortCol])\n",
    "        rightRddDict[col] = rddDict[col].filter(lambda l : l[1][sortCol]<median[sortCol])\n",
    "    left = arbreKDsparkRec(leftRddDict, colList, nextCol, keyIter, outputFile)\n",
    "    right = arbreKDsparkRec(rightRddDict, colList, nextCol, keyIter, outputFile)\n",
    "    res = (index, (median, left[0], right[0]))\n",
    "    with open(outputFile, \"a\") as fw:\n",
    "            fw.write(str(res) + \"\\n\")\n",
    "    return res\n",
    "\n",
    "def arbreKDspark (sc, inputFile, outputFile) :\n",
    "    print(\"--------------------------------------------------\")\n",
    "    print(\"Constitution d'un arbre KD avec Spark\")\n",
    "    print(\"Entrée : \" + inputFile + \" - Sortie : \" + outputFile)\n",
    "    startTime = time.time()\n",
    "    \n",
    "    rddDict = createRddDict(sc, inputFile)\n",
    "    colList = list(rddDict.keys())\n",
    "    nRow = rddDict[colList[0]].count()\n",
    "    keyIter = iter(range(0,nRow))\n",
    "    res = arbreKDsparkRec(rddDict, colList, 0, keyIter, outputFile)\n",
    "    \n",
    "    printSpendTime(startTime)\n",
    "    #return res\n",
    "    return \"\"\n",
    "\n",
    "sc = pyspark.SparkContext(appName=\"arbreKD\")\n",
    "arbre = arbreKDspark(sc, \"data.csv\", \"arbre.txt\")\n",
    "sc.stop()"
   ]
  },
  {
   "cell_type": "code",
   "execution_count": 18,
   "metadata": {
    "collapsed": true
   },
   "outputs": [],
   "source": [
    "sc.stop()"
   ]
  },
  {
   "cell_type": "code",
   "execution_count": null,
   "metadata": {
    "collapsed": true
   },
   "outputs": [],
   "source": []
  }
 ],
 "metadata": {
  "kernelspec": {
   "display_name": "Python 3",
   "language": "python",
   "name": "python3"
  },
  "language_info": {
   "codemirror_mode": {
    "name": "ipython",
    "version": 3
   },
   "file_extension": ".py",
   "mimetype": "text/x-python",
   "name": "python",
   "nbconvert_exporter": "python",
   "pygments_lexer": "ipython3",
   "version": "3.6.3"
  }
 },
 "nbformat": 4,
 "nbformat_minor": 2
}
