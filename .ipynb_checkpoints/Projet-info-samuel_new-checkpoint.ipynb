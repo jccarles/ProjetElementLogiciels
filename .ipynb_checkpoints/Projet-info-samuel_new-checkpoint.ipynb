{
 "cells": [
  {
   "cell_type": "markdown",
   "metadata": {},
   "source": [
    "# Elements logiciels pour le traitement des données en grande dimension"
   ]
  },
  {
   "cell_type": "code",
   "execution_count": 1,
   "metadata": {
    "collapsed": true
   },
   "outputs": [],
   "source": [
    "%matplotlib inline"
   ]
  },
  {
   "cell_type": "markdown",
   "metadata": {},
   "source": [
    "Un arbre k-d (ou k-d tree, pour k-dimensional tree) est une structure de données de partition de l'espace permettant de stocker des points, et de faire des recherches (recherche par plage, plus proche voisin, etc.) plus rapidement qu'en parcourant linéairement le tableau de points."
   ]
  },
  {
   "cell_type": "markdown",
   "metadata": {},
   "source": [
    "Plus précisemement, l'arbre k-d est un arbre binaire dans lequel chaque noeud est un point de dimension k. Chaque noeud non terminal peut être vu comme une génération implicite d'un hyperplan séparateur qui découpe l'espace en deux parties. Les points se trouvant à la gauche de l'hyperplan se retrouvent représentés par le sous-arbre gauche de ce noeud alors que les points se trouvant à la droite de l'hyperplan vont dans le sous-arbre droit. La direction de l'hyperplan est choisie de la manière suivante : chaque noeud de l'arbre est associé avec des k dimensions, avec l'hyperplan de ce noeud perpendiculaire à la direction de son axe. Ainse, par exemple, si pour une certaine découpe on choisit l'axe \"x\", tout les points du sous-arbre ayant une valeur \"x\" inférieure à celle du noeud vont aller dans le sous-arbre de gauche, et les autres points seront dans le droit. Dans un tel cas, l'hyperplan séparateur crée est bien orthogonal à l'axe \"x\"."
   ]
  },
  {
   "cell_type": "markdown",
   "metadata": {},
   "source": [
    "### Construction"
   ]
  },
  {
   "cell_type": "markdown",
   "metadata": {},
   "source": [
    "Sachant qu'il y a beaucoup de manière differentes de choisir des plans séparateurs alignés avec les axes, il y a tout autant de manière de construire des arbres k-d. Nous avons utilisé la méthode suivante :\n",
    "\n",
    "Au fur et à mesure qu'on s'enfonce dans l'arbre, les axes choisis pour sélectionner les plans séparateurs sont alternés de manière cyclique. Par exemple dans le cas où k = 3, la racine aurait un plan séparateur selon \"x\", alors que ses enfants serait séparés par \"y\", ses petit-enfants par \"z\" et ses arrières petit-enfants encore par \"x\" etc.\n",
    "\n",
    "Les séparation sont faites en choisissant la médiane des points étant séparés, médiane par rapport à la coordonée séparatrice. La médiane étant une fonction holistique (il est nécessaire de connaître toutes les données avant de la calculer). Cela peut compliquer l'implémentation sur des données qui serait répartis dans différents clusters. Cependant, l'article de Russell A. Brown montre comment implémenter un tel arbre en utilisant MapReduce. Nous avons donc suivi les instructions données dans l'article afin d'implémenter en Spark l'algorithme permettant de dessiner des arbres k-d.\n"
   ]
  },
  {
   "cell_type": "markdown",
   "metadata": {},
   "source": [
    "### Algorithme"
   ]
  },
  {
   "cell_type": "markdown",
   "metadata": {},
   "source": [
    "L'algorithme décrit dans l'article permet de construire un arbre k-d avec MapReduce dans un temps proportionel à $n\\log(n)$.\n",
    "L'algorithme commence par trier les données en utilisant une méthode implémenté dans Spark, \"sortByKey\". Puis utilise une extension pour trouver la médiane. Il est possible de calculer en parallèle les dimensions de toutes les partitions que Spark a créé. Ceci permet alors d'identifier dans quelle partition l'élement médian se trouve et d'obtenir sa valeur. Une fois identifié, l'algorithme est rappelé de manière récursive sur les deux sous-arbres formés grâce à la méthode \"filter\" qui permet de filtrer (dans notre cas) les éléments supérieurs à l'élément médian, puis les éléments inférieurs."
   ]
  },
  {
   "cell_type": "markdown",
   "metadata": {},
   "source": [
    "Spark permet de ne pas garder l'arbre en mémoire, il garde juste des pointeurs permetants de relier chaque noeud à ses enfants."
   ]
  },
  {
   "cell_type": "markdown",
   "metadata": {},
   "source": [
    "### Données"
   ]
  },
  {
   "cell_type": "markdown",
   "metadata": {},
   "source": [
<<<<<<< HEAD
    "import findspark\n",
    "sparkHome = \"C:\\Dev\\Spark\\spark-2.2.0-bin-hadoop2.7\"\n",
    "# sparkHome = \"C:/Users/carle/spark/spark-2.2.0-bin-hadoop2.7\"\n",
    "findspark.init(sparkHome)"
=======
    "On teste l'algorithme sur des données simulées à deux dimensions."
>>>>>>> f4eb32fa510ee61a8529e31ac7f64205c94291f6
   ]
  },
  {
   "cell_type": "markdown",
   "metadata": {},
   "source": [
<<<<<<< HEAD
=======
    "## Installation de pyspark"
   ]
  },
  {
   "cell_type": "code",
   "execution_count": 2,
   "metadata": {
    "collapsed": true
   },
   "outputs": [],
   "source": [
    "import findspark\n",
    "sparkHome = \"C:\\Dev\\Spark\\spark-2.2.0-bin-hadoop2.7\"\n",
    "# sparkHome = \"C:/Users/carle/spark/spark-2.2.0-bin-hadoop2.7\"\n",
    "findspark.init(sparkHome)"
   ]
  },
  {
   "cell_type": "markdown",
   "metadata": {},
   "source": [
>>>>>>> f4eb32fa510ee61a8529e31ac7f64205c94291f6
    "## Arbre k-d classique"
   ]
  },
  {
   "cell_type": "markdown",
   "metadata": {},
   "source": [
    "### Création d'un jeu de données"
   ]
  },
  {
   "cell_type": "code",
   "execution_count": 3,
   "metadata": {},
   "outputs": [
    {
     "data": {
      "text/html": [
       "<div>\n",
       "<style>\n",
       "    .dataframe thead tr:only-child th {\n",
       "        text-align: right;\n",
       "    }\n",
       "\n",
       "    .dataframe thead th {\n",
       "        text-align: left;\n",
       "    }\n",
       "\n",
       "    .dataframe tbody tr th {\n",
       "        vertical-align: top;\n",
       "    }\n",
       "</style>\n",
       "<table border=\"1\" class=\"dataframe\">\n",
       "  <thead>\n",
       "    <tr style=\"text-align: right;\">\n",
       "      <th></th>\n",
       "      <th>X</th>\n",
       "      <th>Y</th>\n",
       "    </tr>\n",
       "  </thead>\n",
       "  <tbody>\n",
       "    <tr>\n",
       "      <th>0</th>\n",
       "      <td>51.476090</td>\n",
       "      <td>69.628763</td>\n",
       "    </tr>\n",
       "    <tr>\n",
       "      <th>1</th>\n",
       "      <td>31.865933</td>\n",
       "      <td>23.058362</td>\n",
       "    </tr>\n",
       "    <tr>\n",
       "      <th>2</th>\n",
       "      <td>76.725573</td>\n",
       "      <td>42.716253</td>\n",
       "    </tr>\n",
       "    <tr>\n",
       "      <th>3</th>\n",
       "      <td>93.878703</td>\n",
       "      <td>17.284136</td>\n",
       "    </tr>\n",
       "    <tr>\n",
       "      <th>4</th>\n",
       "      <td>46.383735</td>\n",
       "      <td>57.814311</td>\n",
       "    </tr>\n",
       "    <tr>\n",
       "      <th>5</th>\n",
       "      <td>54.667341</td>\n",
       "      <td>95.819969</td>\n",
       "    </tr>\n",
       "    <tr>\n",
       "      <th>6</th>\n",
       "      <td>76.333281</td>\n",
       "      <td>26.421059</td>\n",
       "    </tr>\n",
       "    <tr>\n",
       "      <th>7</th>\n",
       "      <td>63.088187</td>\n",
       "      <td>43.619923</td>\n",
       "    </tr>\n",
       "    <tr>\n",
       "      <th>8</th>\n",
       "      <td>4.083805</td>\n",
       "      <td>50.103829</td>\n",
       "    </tr>\n",
       "    <tr>\n",
       "      <th>9</th>\n",
       "      <td>13.414318</td>\n",
       "      <td>5.288862</td>\n",
       "    </tr>\n",
       "  </tbody>\n",
       "</table>\n",
       "</div>"
      ],
      "text/plain": [
       "           X          Y\n",
       "0  51.476090  69.628763\n",
       "1  31.865933  23.058362\n",
       "2  76.725573  42.716253\n",
       "3  93.878703  17.284136\n",
       "4  46.383735  57.814311\n",
       "5  54.667341  95.819969\n",
       "6  76.333281  26.421059\n",
       "7  63.088187  43.619923\n",
       "8   4.083805  50.103829\n",
       "9  13.414318   5.288862"
      ]
     },
     "execution_count": 3,
     "metadata": {},
     "output_type": "execute_result"
    }
   ],
   "source": [
    "import numpy as np\n",
    "import pandas\n",
    "\n",
    "n = 10\n",
    "data = pandas.DataFrame(np.random.rand(n,2)*100,  columns = ['X', 'Y'])\n",
    "data.iloc[0:10, ]"
   ]
  },
  {
   "cell_type": "code",
   "execution_count": 4,
   "metadata": {},
   "outputs": [
    {
     "data": {
      "image/png": "iVBORw0KGgoAAAANSUhEUgAAAXoAAAD8CAYAAAB5Pm/hAAAABHNCSVQICAgIfAhkiAAAAAlwSFlz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\nqXAGvSQVzqCXpMIZ9JJUOINekgr3f7aV47kLyqzOAAAAAElFTkSuQmCC\n",
      "text/plain": [
       "<matplotlib.figure.Figure at 0x189fca0dd30>"
      ]
     },
     "metadata": {},
     "output_type": "display_data"
    }
   ],
   "source": [
    "import matplotlib.pyplot as plt\n",
    "\n",
    "plt.plot(data[['X']], data[['Y']], 'o')\n",
    "plt.show()"
   ]
  },
  {
   "cell_type": "markdown",
   "metadata": {},
   "source": [
    "### Définition d'une structure de données pour les arbres binaires"
   ]
  },
  {
   "cell_type": "code",
   "execution_count": 5,
   "metadata": {
    "collapsed": true
   },
   "outputs": [],
   "source": [
    "### Classe permettant de definir un arbre binaire simple\n",
    "### Il se constitue d'un noeud racine, de deux sous-arbres\n",
    "### et des donnees correspondant au noeud racine\n",
    "class Tree(object) :\n",
    "    \n",
    "    ## Constructeur simple\n",
    "    def __init__(self) :\n",
    "        self.left = None\n",
    "        self.right = None\n",
    "        self.key = None\n",
    "        self.data = None\n",
    "    \n",
    "    ## Reprensation de l'arbre sous forme de chaine\n",
    "    ## de caracteres\n",
    "    def __str__(self) :\n",
    "        return self.strRec(0)\n",
    "    \n",
    "    ## Represente l'arbre sous forme de chaine de caracteres\n",
    "    ## de facon recursive\n",
    "    def strRec(self, depth) :\n",
    "        line = \"-\" * 3 * depth\n",
    "        res = line + str(self.data)\n",
    "        if self.left :\n",
    "            res += \"\\n\" + self.left.strRec(depth+1)\n",
    "        if self.right :\n",
    "            res += \"\\n\" + self.right.strRec(depth+1)\n",
    "        return res"
   ]
  },
  {
   "cell_type": "code",
   "execution_count": 6,
   "metadata": {
    "collapsed": true
   },
   "outputs": [],
   "source": [
    "import matplotlib.pyplot as plt\n",
    "import matplotlib.lines as lines\n",
    "\n",
    "### Trace un arbre k-d (classe 'Tree') de facon recursive\n",
    "def pltTreeRec(ax, tree, keyX, keyY, xLim, yLim) :\n",
    "    if tree :\n",
    "        x, y = tree.data[keyX], tree.data[keyY]\n",
    "        if tree.key == keyX :\n",
    "            pltTreeRec(ax, tree.left, keyX, keyY, (xLim[0], x), yLim)\n",
    "            pltTreeRec(ax, tree.right, keyX, keyY, (x, xLim[1]), yLim)\n",
    "            ax.add_line(lines.Line2D((x, x), yLim, linewidth=0.5, color='red'))\n",
    "        elif tree.key == keyY :\n",
    "            pltTreeRec(ax, tree.left, keyX, keyY, xLim, (yLim[0], y))\n",
    "            pltTreeRec(ax, tree.right, keyX, keyY, xLim, (y, yLim[1]))\n",
    "            ax.add_line(lines.Line2D(xLim, (y, y), linewidth=0.5, color='red'))\n",
    "        plt.plot(x, y, 'o', color='#1f77b4')\n",
    "\n",
    "### Trace un jeu de donnees et l'arbre k-d associe.\n",
    "### Le parametre 'tree' doit etre une instance de la \n",
    "### classe 'Tree'\n",
    "def plotDataTree(data, tree) :\n",
    "    colList = data.columns.values.tolist()\n",
    "    keyX, keyY = colList[0], colList[1]\n",
    "    ax = plt.axes()\n",
    "    plt.plot(data[['X']], data[['Y']], 'o', color='#1f77b4')\n",
    "    xLim, yLim = ax.get_xlim(), ax.get_ylim()\n",
    "    pltTreeRec(ax, tree, keyX, keyY, xLim, yLim)\n",
    "    plt.show()"
   ]
  },
  {
   "cell_type": "markdown",
   "metadata": {},
   "source": [
    "### Algorithme \"naïf\" pour constituer un arbre k-d"
   ]
  },
  {
   "cell_type": "markdown",
   "metadata": {},
   "source": [
    "<p>\n",
    "On propose une première implémentation, \"naïve\", pour la constitution d'un arbre k-d. Le principe : on découpe de façon cyclique selon les différentes dimension ; à chaque étape on recherche la médiane du tableau (donc une opération de tri) selon la dimension courante ; on lui attache deux sous-arbres correspondants aux valeurs inférieures (resp. supérieures) à la médiane.\n",
    "</p>\n",
    "<p>\n",
    "D'après Bentley, si on est en mesure de trouver la médiane en $O(n)$, la complexité de l'algorithme est en $O(n\\log(n))$.\n",
    "</p>"
   ]
  },
  {
   "cell_type": "code",
   "execution_count": 7,
   "metadata": {
    "collapsed": true
   },
   "outputs": [],
   "source": [
    "### Fonction recursive pour constituer un arbre k-d\n",
    "def arbreKDnaifRec (data, colList, curCol) :\n",
    "    nCol = len(colList)\n",
    "    nRow = data.shape[0]\n",
    "    sortCol = colList[curCol]\n",
    "    if nRow == 0 :\n",
    "        return None\n",
    "    elif nRow == 1 :\n",
    "        dataNode = data.iloc[0,]\n",
    "        rootNode = Tree()\n",
    "        rootNode.key = sortCol\n",
    "        rootNode.data = dict()\n",
    "        for col in colList :\n",
    "            rootNode.data[col] = dataNode[col].item()\n",
    "        return rootNode\n",
    "    median = int(nRow / 2)\n",
    "    if nRow % 2 == 1 :\n",
    "        median = int((nRow-1) / 2)\n",
    "    nextCol = (curCol + 1) % nCol\n",
    "    dataSort = data.sort_values(by=sortCol)\n",
    "    dataNode = dataSort.iloc[median,]\n",
    "    rootNode = Tree()\n",
    "    rootNode.key = sortCol\n",
    "    rootNode.data = dict()\n",
    "    for col in colList :\n",
    "        rootNode.data[col] = dataNode[col].item()\n",
    "    rootNode.left = arbreKDnaifRec(dataSort.iloc[0:median,], colList, nextCol) #appel recursif en changeant de colonne sur les \n",
    "    rootNode.right = arbreKDnaifRec(dataSort.iloc[(median+1):nRow,], colList, nextCol) #    sous-arbres\n",
    "    return rootNode\n",
    "\n",
    "### Fonction englobante permettant la construction d'un arbre k-d\n",
    "def arbreKDnaif (data) :\n",
    "    colList = data.columns.values.tolist()\n",
    "    curCol = 0\n",
    "    return(arbreKDnaifRec(data, colList, curCol))"
   ]
  },
  {
   "cell_type": "code",
   "execution_count": 8,
   "metadata": {},
   "outputs": [
    {
     "name": "stdout",
     "output_type": "stream",
     "text": [
      "{'X': 54.66734086219327, 'Y': 95.81996868453598}\n",
      "---{'X': 4.083805439424204, 'Y': 50.103829035922395}\n",
      "------{'X': 31.86593298081163, 'Y': 23.05836222715516}\n",
      "---------{'X': 13.414317816059496, 'Y': 5.288862128327376}\n",
      "------{'X': 51.47608992974308, 'Y': 69.62876282339097}\n",
      "---------{'X': 46.38373522817568, 'Y': 57.814310889387734}\n",
      "---{'X': 76.72557282216898, 'Y': 42.716253324275876}\n",
      "------{'X': 93.87870278763502, 'Y': 17.28413599443718}\n",
      "---------{'X': 76.33328060688733, 'Y': 26.421058995101166}\n",
      "------{'X': 63.08818741530181, 'Y': 43.6199228700512}\n"
     ]
    },
    {
     "data": {
      "image/png": "iVBORw0KGgoAAAANSUhEUgAAAXoAAAD8CAYAAAB5Pm/hAAAABHNCSVQICAgIfAhkiAAAAAlwSFlz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\nrkJggg==\n",
      "text/plain": [
       "<matplotlib.figure.Figure at 0x189fca0df28>"
      ]
     },
     "metadata": {},
     "output_type": "display_data"
    }
   ],
   "source": [
    "### Test de la fonction 'arbreKDnaif' sur le \n",
    "### jeu de donnees 'data'\n",
    "arbre = arbreKDnaif(data)\n",
    "print(arbre)\n",
    "plotDataTree(data, arbre)"
   ]
  },
  {
   "cell_type": "markdown",
   "metadata": {
    "collapsed": true
   },
   "source": [
    "### Construction d'un arbre k-d avec pré-tri par dimension"
   ]
  },
  {
   "cell_type": "markdown",
   "metadata": {},
   "source": [
    "<p>\n",
    "On implémente, toujours de façon non distribuée, un algorithme de construction d'un arbre k-d où le tri selon les différentes dimension du jeu de données est fait en amont.\n",
    "</p>"
   ]
  },
  {
   "cell_type": "code",
   "execution_count": 9,
   "metadata": {
    "collapsed": true
   },
   "outputs": [],
   "source": [
    "### Fonction recursive pour constituer un arbre k-d\n",
    "def arbreKDpretriRec (sortedData, colList, curCol) :\n",
    "    nCol = len(colList)\n",
    "    sortCol = colList[curCol]\n",
    "    curData = sortedData[sortCol]\n",
    "    nRow = curData.shape[0]\n",
    "    if nRow == 0 :\n",
    "        return None\n",
    "    elif nRow == 1 :\n",
    "        dataNode = curData.iloc[0,]\n",
    "        rootNode = Tree()\n",
    "        rootNode.key = sortCol\n",
    "        rootNode.data = dict()\n",
    "        for col in colList :\n",
    "            rootNode.data[col] = dataNode[col].item()\n",
    "        return rootNode\n",
    "    median = int(nRow / 2) #calcul de lelement median\n",
    "    if nRow % 2 == 1 :\n",
    "        median = int((nRow-1) / 2)\n",
    "    nextCol = (curCol + 1) % nCol\n",
    "    dataNode = curData.iloc[median,]\n",
    "    rootNode = Tree()\n",
    "    rootNode.key = sortCol\n",
    "    rootNode.data = dict()\n",
    "    for col in colList :\n",
    "        rootNode.data[col] = dataNode[col].item()\n",
    "    leftSortedData = dict()\n",
    "    rightSortedData = dict()\n",
    "    for col in colList :\n",
    "        leftSortedData[col] = sortedData[col][sortedData[col][sortCol]<rootNode.data[sortCol]] #creation du sous-arbre gauche\n",
    "        rightSortedData[col] = sortedData[col][sortedData[col][sortCol]>rootNode.data[sortCol]] #creation du sous-arbre droit\n",
    "    rootNode.left = arbreKDpretriRec(leftSortedData, colList, nextCol)\n",
    "    rootNode.right = arbreKDpretriRec(rightSortedData, colList, nextCol)\n",
    "    return rootNode\n",
    "\n",
    "### Fonction englobante permettant la construction d'un arbre k-d\n",
    "def arbreKDpretri (data) :\n",
    "    colList = data.columns.values.tolist()\n",
    "    sortedData = dict()\n",
    "    for col in colList :\n",
    "        sortedData[col] = data.sort_values(by = col)\n",
    "    curCol = 0\n",
    "    return(arbreKDpretriRec(sortedData, colList, curCol))"
   ]
  },
  {
   "cell_type": "code",
   "execution_count": 10,
   "metadata": {},
   "outputs": [
    {
     "name": "stdout",
     "output_type": "stream",
     "text": [
      "{'X': 54.66734086219327, 'Y': 95.81996868453598}\n",
      "---{'X': 4.083805439424204, 'Y': 50.103829035922395}\n",
      "------{'X': 31.86593298081163, 'Y': 23.05836222715516}\n",
      "---------{'X': 13.414317816059496, 'Y': 5.288862128327376}\n",
      "------{'X': 51.47608992974308, 'Y': 69.62876282339097}\n",
      "---------{'X': 46.38373522817568, 'Y': 57.814310889387734}\n",
      "---{'X': 76.72557282216898, 'Y': 42.716253324275876}\n",
      "------{'X': 93.87870278763502, 'Y': 17.28413599443718}\n",
      "---------{'X': 76.33328060688733, 'Y': 26.421058995101166}\n",
      "------{'X': 63.08818741530181, 'Y': 43.6199228700512}\n"
     ]
    },
    {
     "data": {
      "image/png": "iVBORw0KGgoAAAANSUhEUgAAAXoAAAD8CAYAAAB5Pm/hAAAABHNCSVQICAgIfAhkiAAAAAlwSFlz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\nrkJggg==\n",
      "text/plain": [
       "<matplotlib.figure.Figure at 0x189fda8cf98>"
      ]
     },
     "metadata": {},
     "output_type": "display_data"
    }
   ],
   "source": [
    "### Test de la fonction 'arbreKDpretri' sur le \n",
    "### jeu de donnees 'data'\n",
    "### --> on doit retrouver le même arbre qu'avec 'arbreKDnaif'\n",
    "arbre = arbreKDpretri(data)\n",
    "print(arbre)\n",
    "plotDataTree(data, arbre)"
   ]
  },
  {
   "cell_type": "markdown",
   "metadata": {},
   "source": [
    "## Arbre k-d distribué avec Spark"
   ]
  },
  {
   "cell_type": "markdown",
   "metadata": {},
   "source": [
    "<p>On reprend l'algorithme de constitution d'un arbre k-d avec tri initial selon toutes les dimensions. L'idée est de ne plus charger en mémoire l'intégralité des données, ainsi que l'arbre construit. On utilise pour cela la solution Spark, basée sur les RDD.</p>"
   ]
  },
  {
   "cell_type": "code",
   "execution_count": 11,
   "metadata": {
    "collapsed": true
   },
   "outputs": [],
   "source": [
    "### Export du jeu de données au format CSV, pour permettre un traitement général\n",
    "data.to_csv(\"data.csv\", index=False)"
   ]
  },
  {
   "cell_type": "code",
   "execution_count": 12,
   "metadata": {
    "collapsed": true
   },
   "outputs": [],
   "source": [
    "import pyspark\n",
    "import time\n",
    "\n",
    "def printSpendTime (startTime) :\n",
    "    spendTime = time.time() - startTime\n",
    "    m, s = divmod(spendTime, 60)\n",
    "    h, m = divmod(m, 60)\n",
    "    print(\"--------------------------------------------------\")\n",
    "    print (\"-----   Temps écoulé : %dh%02dm%02ds\" % (h, m, s))\n",
    "    print(\"--------------------------------------------------\")\n",
    "    return\n",
    "\n",
    "def loadRecord(line) :\n",
    "    values = line.split(\",\")\n",
    "    values = [float(v) for v in values]\n",
    "    return tuple(values)\n",
    "\n",
    "def createRddDict(sc, file) :\n",
    "    rddFile = sc.textFile(file)\n",
    "    rawHeader = rddFile.first()\n",
    "    header = rawHeader.split(\",\")\n",
    "    rawRows = rddFile.filter(lambda l : l != rawHeader)\n",
    "    res = dict()\n",
    "    for i in range(0, len(header)) :\n",
    "        res[header[i]] = rawRows.map(lambda l : loadRecord(l)) \\\n",
    "        .sortBy(lambda l : l[i]).zipWithIndex().map(lambda l : (l[1], l[0])).sortByKey()\n",
    "    return res\n",
    "\n",
    "def arbreKDsparkRec (rddDict, colList, curCol, keyIter, outputFile) :\n",
    "    nCol = len(colList)\n",
    "    sortCol = colList[curCol]\n",
    "    curRdd = rddDict[sortCol]\n",
    "    nRow = curRdd.count()\n",
    "    if nRow == 0 :\n",
    "        return (None, (None, None, None))\n",
    "    elif nRow == 1 :\n",
    "        res = (next(keyIter), (curRdd.first()[1], None, None))\n",
    "        with open(outputFile, \"a\") as fw:\n",
    "            fw.write(str(res) + \"\\n\")\n",
    "        return res\n",
    "    median = int(nRow / 2)\n",
    "    if nRow % 2 == 1 :\n",
    "        median = int((nRow-1) / 2)\n",
    "    median = curRdd.lookup(median)[0]\n",
    "    print(\"Mediane : \")\n",
    "    print(median)\n",
    "    index = next(keyIter)\n",
    "    nextCol = (curCol + 1) % nCol\n",
    "    leftRddDict = dict()\n",
    "    rightRddDict = dict()\n",
    "    for col in colList :\n",
    "        leftRddDict[col] = rddDict[col].filter(lambda l : l[1][curCol]<median[curCol]) \\\n",
    "        .zipWithIndex().map(lambda l : (l[1], l[0][1]))\n",
    "        rightRddDict[col] = rddDict[col].filter(lambda l : l[1][curCol]>median[curCol]) \\\n",
    "        .zipWithIndex().map(lambda l : (l[1], l[0][1]))\n",
    "    left = arbreKDsparkRec(leftRddDict, colList, nextCol, keyIter, outputFile)\n",
    "    right = arbreKDsparkRec(rightRddDict, colList, nextCol, keyIter, outputFile)\n",
    "    res = (index, (median, left[0], right[0]))\n",
    "    with open(outputFile, \"a\") as fw:\n",
    "            fw.write(str(res) + \"\\n\")\n",
    "    return res\n",
    "\n",
    "def arbreKDspark (sc, inputFile, outputFile) :\n",
    "    print(\"--------------------------------------------------\")\n",
    "    print(\"Constitution d'un arbre KD avec Spark\")\n",
    "    print(\"Entrée : \" + inputFile + \" - Sortie : \" + outputFile)\n",
    "    startTime = time.time()\n",
    "    \n",
    "    rddDict = createRddDict(sc, inputFile)\n",
    "    colList = list(rddDict.keys())\n",
    "    nRow = rddDict[colList[0]].count()\n",
    "    keyIter = iter(range(0,nRow))\n",
    "    res = arbreKDsparkRec(rddDict, colList, 0, keyIter, outputFile)\n",
    "    \n",
    "    printSpendTime(startTime)\n",
    "    return None"
   ]
  },
  {
   "cell_type": "code",
   "execution_count": 13,
   "metadata": {},
   "outputs": [
    {
     "name": "stdout",
     "output_type": "stream",
     "text": [
      "--------------------------------------------------\n",
      "Constitution d'un arbre KD avec Spark\n",
      "Entrée : data.csv - Sortie : arbre.txt\n",
      "Mediane : \n",
      "(54.66734086219327, 95.81996868453598)\n",
      "Mediane : \n",
      "(4.083805439424204, 50.103829035922395)\n",
      "Mediane : \n",
      "(31.86593298081163, 23.05836222715516)\n",
      "Mediane : \n",
      "(51.47608992974308, 69.62876282339097)\n",
      "Mediane : \n",
      "(76.72557282216898, 42.716253324275876)\n",
      "Mediane : \n",
      "(93.87870278763502, 17.28413599443718)\n",
      "--------------------------------------------------\n",
      "-----   Temps écoulé : 0h02m08s\n",
      "--------------------------------------------------\n"
     ]
    }
   ],
   "source": [
    "sc = pyspark.SparkContext(appName=\"arbreKD\")\n",
    "arbre = arbreKDspark(sc, \"data.csv\", \"arbre.txt\")\n",
    "sc.stop()"
   ]
  },
  {
   "cell_type": "code",
   "execution_count": 14,
   "metadata": {
    "collapsed": true
   },
   "outputs": [],
   "source": [
    "### Si le programme précédent a planté, il est nécessaire d'arrêter\n",
    "### le contexte Spark (un seul contexte en même temps)\n",
    "sc.stop()"
   ]
  },
  {
   "cell_type": "markdown",
   "metadata": {
    "collapsed": true
   },
   "source": [
    "### Fonction médiane de l'article"
   ]
  },
  {
<<<<<<< HEAD
=======
   "cell_type": "markdown",
   "metadata": {},
   "source": [
    "Cette fonction médiane est performante cependant, pour renvoyer l'élément médian lors du return, elle recollecte les partitions ce qui la ralentit. Mais le calcul des longueurs des partitions en parallèle serait bienvenu lors d'un travail sur des grosses bases de données."
   ]
  },
  {
>>>>>>> f4eb32fa510ee61a8529e31ac7f64205c94291f6
   "cell_type": "code",
   "execution_count": 15,
   "metadata": {
    "collapsed": true
   },
   "outputs": [],
   "source": [
    "import numpy as np\n",
    "\n",
    "def getMedian (rdd_sorted) :\n",
    "    # l = rdd_sorted.glom().map(len).collect()  # get length of each partition \n",
    "    l = rdd_sorted.mapPartitions(lambda it: [sum(1 for _ in it)]).collect()\n",
    "    print(\"Eléments par partition : \" + str(l))\n",
    "    print(l)\n",
    "\n",
    "    n = sum(l) #number of elements in all partitions\n",
    "    median = int(n / 2)\n",
    "    if n % 2 == 1 :\n",
    "        median = int((n-1) / 2)\n",
    "    cumsuml = np.cumsum(l) - median\n",
    "    filtre = [x for x in cumsuml if x>=0] #filter partition with element smallers than median\n",
    "    partition_median = len(l)-len(filtre) #partition where the median lye\n",
    "    \n",
    "    return(rdd_sorted.glom().collect()[partition_median][filtre[0]]) #return the median element (X : Xvalue, Y : Yvalue)"
   ]
  },
  {
   "cell_type": "code",
   "execution_count": 16,
   "metadata": {},
   "outputs": [
    {
     "name": "stdout",
     "output_type": "stream",
     "text": [
      "[(0, (4.083805439424204, 50.103829035922395)), (1, (13.414317816059496, 5.288862128327376)), (2, (31.86593298081163, 23.05836222715516)), (3, (46.38373522817568, 57.814310889387734)), (4, (51.47608992974308, 69.62876282339097)), (5, (54.66734086219327, 95.81996868453598)), (6, (63.08818741530181, 43.6199228700512)), (7, (76.33328060688733, 26.421058995101166)), (8, (76.72557282216898, 42.716253324275876)), (9, (93.87870278763502, 17.28413599443718))]\n",
      "Eléments par partition : [6, 4]\n",
      "[6, 4]\n",
      "Mediane : \n",
      "(1, (13.414317816059496, 5.288862128327376))\n"
     ]
    }
   ],
   "source": [
    "sc = pyspark.SparkContext(appName=\"arbreKD\")\n",
    "rddDict = createRddDict(sc, \"data.csv\")\n",
    "print(rddDict['X'].collect())\n",
    "median = getMedian(rddDict['X'])\n",
    "print(\"Mediane : \")\n",
    "print(median)\n",
    "sc.stop()"
   ]
  },
  {
   "cell_type": "code",
   "execution_count": null,
   "metadata": {
    "collapsed": true
   },
   "outputs": [],
   "source": []
  }
 ],
 "metadata": {
  "kernelspec": {
   "display_name": "Python 3",
   "language": "python",
   "name": "python3"
  },
  "language_info": {
   "codemirror_mode": {
    "name": "ipython",
    "version": 3
   },
   "file_extension": ".py",
   "mimetype": "text/x-python",
   "name": "python",
   "nbconvert_exporter": "python",
   "pygments_lexer": "ipython3",
   "version": "3.6.3"
  }
 },
 "nbformat": 4,
 "nbformat_minor": 2
}
